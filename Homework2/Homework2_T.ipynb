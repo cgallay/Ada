{
 "cells": [
  {
   "cell_type": "code",
   "execution_count": 1,
   "metadata": {},
   "outputs": [],
   "source": [
    "# Import libraries\n",
    "import pandas as pd\n",
    "import seaborn\n",
    "import json\n",
    "%matplotlib inline\n",
    "import requests\n",
    "from bs4 import BeautifulSoup"
   ]
  },
  {
   "cell_type": "markdown",
   "metadata": {},
   "source": [
    "# Scraping\n",
    "\n",
    "#### We will start by using postman to spy on the get requests that are sent for both website, in order to retrieve the url that loads the rankings in the corresponding websites. To do this, we send requests to both websites and retrieve the information as json files and extract two dictionarries that will be used to form the dataframes"
   ]
  },
  {
   "cell_type": "code",
   "execution_count": 2,
   "metadata": {
    "scrolled": true
   },
   "outputs": [],
   "source": [
    "r_THE = requests.get('https://www.timeshighereducation.com/sites/default/files/the_data_rankings/world_university_rankings_2018_limit0_369a9045a203e176392b9fb8f8c1cb2a.json')\n",
    "r_QS = requests.get('https://www.topuniversities.com/sites/default/files/qs-rankings-data/357051.txt?_=1508593854921')\n",
    "\n",
    "data_THE = r_THE.json() #ranking data for timeshighereducation.com\n",
    "data_QS = r_QS.json()  #ranking data for topuniversities.com"
   ]
  },
  {
   "cell_type": "markdown",
   "metadata": {},
   "source": [
    "##### We only took the data part for each json, which is of interest"
   ]
  },
  {
   "cell_type": "code",
   "execution_count": 3,
   "metadata": {
    "scrolled": true
   },
   "outputs": [
    {
     "name": "stdout",
     "output_type": "stream",
     "text": [
      "['subjects', 'locations', 'pillars', 'data']\n",
      "['data']\n"
     ]
    }
   ],
   "source": [
    "print(list(data_THE.keys()))\n",
    "print(list(data_QS.keys()))"
   ]
  },
  {
   "cell_type": "code",
   "execution_count": 4,
   "metadata": {},
   "outputs": [],
   "source": [
    "df_rank_THE = pd.DataFrame(data_THE['data'])\n",
    "df_rank_QS = pd.DataFrame(data_QS['data'])"
   ]
  },
  {
   "cell_type": "markdown",
   "metadata": {},
   "source": [
    "##### We create the two dataframes and drop all the universites ranked above 200"
   ]
  },
  {
   "cell_type": "code",
   "execution_count": 5,
   "metadata": {
    "scrolled": true
   },
   "outputs": [],
   "source": [
    "# We need to clean the rankings in replacing first special characters\n",
    "df_rank_THE['rank'] = df_rank_THE['rank'].apply(lambda x: int(x.replace('=', '').replace('–', '').replace('+', '')))\n",
    "#df_rank_THE['rank'] = df_rank_THE['rank'].replace(\"=|–|+\", \"\", regex=True).astype(int)\n",
    "df_rank_THE = df_rank_THE.drop(df_rank_THE[df_rank_THE['rank'] > 200].index)\n",
    "\n",
    "df_rank_QS['rank_display'] = df_rank_QS['rank_display'].apply(lambda x: int(x.replace('=', '').replace('-', '').replace('+', '')))\n",
    "#df_rank_QS['rank_display'] = df_rank_QS['rank_display'].replace(\"=|-|+\", \"\", regex=True).astype(int)\n",
    "df_rank_QS = df_rank_QS.drop(df_rank_QS[df_rank_QS['rank_display'] > 200].index)"
   ]
  },
  {
   "cell_type": "markdown",
   "metadata": {},
   "source": [
    "##### Then, we select the required features for both dataframes"
   ]
  },
  {
   "cell_type": "code",
   "execution_count": 6,
   "metadata": {
    "scrolled": true
   },
   "outputs": [],
   "source": [
    "THE_features = ['name', 'location', 'rank', 'stats_number_students', 'stats_pc_intl_students', 'stats_student_staff_ratio']\n",
    "df_rank_THE = df_rank_THE[THE_features]\n",
    "\n",
    "df_rank_THE = df_rank_THE.set_index('name').sort_index(ascending=True)\n"
   ]
  },
  {
   "cell_type": "code",
   "execution_count": null,
   "metadata": {
    "scrolled": true
   },
   "outputs": [],
   "source": [
    "QS_features = ['country', 'region', 'rank_display']\n",
    "\n",
    "df_rank_QS = df_rank_QS.set_index('title').sort_index(ascending=True)\n",
    "\n",
    "urls = df_rank_QS['url'] # We need to search further informations as the list isn't exhaustive, hence the url we are saving \n",
    "df_rank_QS = df_rank_QS[QS_features]"
   ]
  },
  {
   "cell_type": "markdown",
   "metadata": {},
   "source": [
    "# Question 1"
   ]
  },
  {
   "cell_type": "markdown",
   "metadata": {},
   "source": [
    "##### For the first webpage, we need to scrap more data from the detail page of each university. Postman was very helpful for finding tags with the corresponing informations."
   ]
  },
  {
   "cell_type": "code",
   "execution_count": null,
   "metadata": {},
   "outputs": [],
   "source": [
    "link = 'https://www.topuniversities.com/'\n",
    "university = {'title': [],\n",
    "              'faculty members total': [],\n",
    "              'faculty members international': [],\n",
    "              'students total': [],\n",
    "              'students international': []}\n",
    "\n",
    "for uni in urls.iteritems():\n",
    "    soup = BeautifulSoup(requests.get(link + uni[1]).text, 'html.parser')\n",
    "    \n",
    "    faculty = soup.find('div', class_='faculty-main wrapper col-md-4 item active')\n",
    "    if faculty is not None:\n",
    "        faculty = faculty.find_all('div', class_='number')\n",
    "        \n",
    "    students = soup.find('div', class_='students-main wrapper col-md-4 item')\n",
    "    if students is not None:\n",
    "        students = students.find('div', class_='number')\n",
    "    \n",
    "    int_students = soup.find('div', class_='int-students-main wrapper col-md-4 item')\n",
    "    if int_students is not None:\n",
    "        int_students = int_students.find('div', class_='number')\n",
    "    \n",
    "    \n",
    "    if faculty is not None:\n",
    "        if len(faculty) > 1:\n",
    "            university['faculty members total'].append(int(faculty[0].text.replace(',', '')))\n",
    "            university['faculty members international'].append(int(faculty[1].text.replace(',', '')))\n",
    "        else:\n",
    "            university['faculty members total'].append(int(faculty[0].text.replace(',', '')))\n",
    "            university['faculty members international'].append(None)\n",
    "    else:\n",
    "        university['faculty members total'].append(None)\n",
    "        university['faculty members international'].append(None)\n",
    "        \n",
    "        \n",
    "    if students is not None:\n",
    "        university['students total'].append(int(students.text.replace(',', '')))\n",
    "        \n",
    "    else:\n",
    "        university['students total'].append(None)\n",
    "    \n",
    "    if int_students is not None:\n",
    "        university['students international'].append(int(int_students.text.replace(',', '')))\n",
    "        \n",
    "    else:\n",
    "        university['students international'].append(None)\n",
    "\n",
    "    university['title'].append(uni[0])\n",
    "        "
   ]
  },
  {
   "cell_type": "markdown",
   "metadata": {},
   "source": [
    "##### We join the original dataframe with the additional informations collected and rearrange headers in a intuitive way"
   ]
  },
  {
   "cell_type": "code",
   "execution_count": null,
   "metadata": {
    "scrolled": true
   },
   "outputs": [],
   "source": [
    "df_rank_QS_supp = pd.DataFrame(university).set_index('title')\n",
    "df_rank_QS = df_rank_QS.join(df_rank_QS_supp)"
   ]
  },
  {
   "cell_type": "code",
   "execution_count": null,
   "metadata": {
    "scrolled": true
   },
   "outputs": [],
   "source": [
    "col = [('country', None), ('region', None), ('rank', None), ('faculty members', 'international'), ('faculty members', 'total'), ('students', 'international'), ('students', 'total')]\n",
    "df_rank_QS.columns = pd.MultiIndex.from_tuples([('', x[0]) if pd.isnull(x[1]) else x for x in col])\n",
    "df_rank_QS.index.name = 'name'"
   ]
  },
  {
   "cell_type": "markdown",
   "metadata": {},
   "source": [
    "## University"
   ]
  },
  {
   "cell_type": "code",
   "execution_count": null,
   "metadata": {
    "scrolled": true
   },
   "outputs": [],
   "source": [
    "QS_ratio_university = df_rank_QS.copy()[['faculty members', 'students']]\n",
    "\n",
    "QS_ratio_university['ratio', 'faculty/students'] = QS_ratio_university['faculty members', 'total'] / QS_ratio_university['students', 'total']\n",
    "QS_ratio_university['ratio', 'international/total'] = QS_ratio_university['students', 'international'] / QS_ratio_university['students', 'total']"
   ]
  },
  {
   "cell_type": "markdown",
   "metadata": {},
   "source": [
    "### Best faculty/students ratio"
   ]
  },
  {
   "cell_type": "code",
   "execution_count": null,
   "metadata": {
    "scrolled": true
   },
   "outputs": [],
   "source": [
    "QS_ratio_university.sort_values(('ratio', 'faculty/students'), ascending=False).head()"
   ]
  },
  {
   "cell_type": "markdown",
   "metadata": {},
   "source": [
    "### Best international ratio"
   ]
  },
  {
   "cell_type": "code",
   "execution_count": null,
   "metadata": {
    "scrolled": true
   },
   "outputs": [],
   "source": [
    "QS_ratio_university.sort_values(('ratio', 'international/total'), ascending=False).head()"
   ]
  },
  {
   "cell_type": "markdown",
   "metadata": {},
   "source": [
    "## Country"
   ]
  },
  {
   "cell_type": "code",
   "execution_count": null,
   "metadata": {},
   "outputs": [],
   "source": [
    "QS_ratio_country = df_rank_QS.copy()\n",
    "QS_ratio_country = QS_ratio_country.groupby([('', 'country')]).sum()[['faculty members', 'students']]\n",
    "QS_ratio_country.index.name = 'Country'\n",
    "\n",
    "QS_ratio_country['ratio', 'faculty/students'] = QS_ratio_country['faculty members', 'total']/QS_ratio_country['students', 'total']\n",
    "QS_ratio_country['ratio', 'international/total'] = QS_ratio_country['students', 'international']/QS_ratio_country['students', 'total']"
   ]
  },
  {
   "cell_type": "markdown",
   "metadata": {},
   "source": [
    "### Best faculty/student ratio"
   ]
  },
  {
   "cell_type": "code",
   "execution_count": null,
   "metadata": {},
   "outputs": [],
   "source": [
    "QS_ratio_country.sort_values(('ratio', 'faculty/students'), ascending=False).head()"
   ]
  },
  {
   "cell_type": "markdown",
   "metadata": {},
   "source": [
    "### Best international ratio"
   ]
  },
  {
   "cell_type": "code",
   "execution_count": null,
   "metadata": {},
   "outputs": [],
   "source": [
    "QS_ratio_country.sort_values(('ratio', 'international/total'), ascending=False).head()"
   ]
  },
  {
   "cell_type": "markdown",
   "metadata": {},
   "source": [
    "## Region"
   ]
  },
  {
   "cell_type": "code",
   "execution_count": null,
   "metadata": {},
   "outputs": [],
   "source": [
    "QS_ratio_region = df_rank_QS.copy()\n",
    "QS_ratio_region = QS_ratio_region.groupby([('', 'region')]).sum()[['faculty members', 'students']]\n",
    "QS_ratio_region.index.name = 'Region'\n",
    "\n",
    "QS_ratio_region['ratio', 'faculty/students'] = QS_ratio_region['faculty members', 'total']/QS_ratio_region['students', 'total']\n",
    "QS_ratio_region['ratio', 'international/total'] = QS_ratio_region['students', 'international']/QS_ratio_region['students', 'total']"
   ]
  },
  {
   "cell_type": "markdown",
   "metadata": {},
   "source": [
    "### Best faculty/student ratio"
   ]
  },
  {
   "cell_type": "code",
   "execution_count": null,
   "metadata": {},
   "outputs": [],
   "source": [
    "QS_ratio_region.sort_values(('ratio', 'faculty/students'), ascending=False).head()"
   ]
  },
  {
   "cell_type": "markdown",
   "metadata": {},
   "source": [
    "### Best international ratio"
   ]
  },
  {
   "cell_type": "code",
   "execution_count": null,
   "metadata": {},
   "outputs": [],
   "source": [
    "QS_ratio_region.sort_values(('ratio', 'international/total'), ascending=False).head()"
   ]
  },
  {
   "cell_type": "markdown",
   "metadata": {},
   "source": [
    "# Question 2"
   ]
  },
  {
   "cell_type": "code",
   "execution_count": null,
   "metadata": {},
   "outputs": [],
   "source": [
    "df_rank_THE['stats_number_students'] = df_rank_THE.stats_number_students.apply(lambda x: x.replace(',', ''))\n",
    "df_rank_THE['stats_pc_intl_students'] = df_rank_THE.stats_pc_intl_students.apply(lambda x: float(x.replace('%', ''))/100)\n",
    "df_rank_THE['stats_student_staff_ratio'] = df_rank_THE.stats_student_staff_ratio.apply(lambda x: 1/float(x))"
   ]
  },
  {
   "cell_type": "code",
   "execution_count": null,
   "metadata": {
    "scrolled": true
   },
   "outputs": [],
   "source": [
    "col = [('', 'Country'),('', 'rank'), ('students', 'total'), ('ratio', 'international/total'), ('ratio', 'faculty/students')]\n",
    "\n",
    "df_rank_THE.columns = pd.MultiIndex.from_tuples([('', x[0]) if pd.isnull(x[1]) else x for x in col])\n",
    "\n",
    "df_rank_THE['students', 'international'] = df_rank_THE[('students', 'total')].apply(lambda x: float(x)).multiply(df_rank_THE[('ratio', 'international/total')])\n",
    "df_rank_THE['faculty', 'total'] = df_rank_THE[('ratio', 'faculty/students')].apply(lambda x: float(x)).multiply(df_rank_THE[('students', 'total')].apply(lambda x: float(x)))\n",
    "\n",
    "df_rank_THE['faculty', 'total'] = df_rank_THE['faculty', 'total'].apply(lambda x: int(x))\n",
    "df_rank_THE['students', 'total'] = df_rank_THE['students', 'total'].apply(lambda x: int(x))\n",
    "\n",
    "df_rank_THE = df_rank_THE[[('', 'Country'), ('', 'rank'), ('faculty', 'total'), ('students', 'international'), ('students', 'total'), ('ratio', 'faculty/students'), ('ratio', 'international/total')]]"
   ]
  },
  {
   "cell_type": "code",
   "execution_count": null,
   "metadata": {},
   "outputs": [],
   "source": [
    "THE_ratio_university = df_rank_THE.copy()[['students', 'ratio']]"
   ]
  },
  {
   "cell_type": "markdown",
   "metadata": {},
   "source": [
    "## University"
   ]
  },
  {
   "cell_type": "markdown",
   "metadata": {},
   "source": [
    "### Best faculty/student ratio"
   ]
  },
  {
   "cell_type": "code",
   "execution_count": null,
   "metadata": {},
   "outputs": [],
   "source": [
    "THE_ratio_university.sort_values(('ratio', 'faculty/students'), ascending=False).head()"
   ]
  },
  {
   "cell_type": "markdown",
   "metadata": {},
   "source": [
    "### Best international ratio"
   ]
  },
  {
   "cell_type": "code",
   "execution_count": null,
   "metadata": {
    "scrolled": true
   },
   "outputs": [],
   "source": [
    "THE_ratio_university.sort_values(('ratio', 'international/total'), ascending=False).head()"
   ]
  },
  {
   "cell_type": "markdown",
   "metadata": {},
   "source": [
    "## Country"
   ]
  },
  {
   "cell_type": "code",
   "execution_count": null,
   "metadata": {
    "scrolled": true
   },
   "outputs": [],
   "source": [
    "THE_ratio_country = df_rank_THE.copy()\n",
    "THE_ratio_country = THE_ratio_country.groupby([('', 'Country')]).sum()[['faculty', 'students']]\n",
    "THE_ratio_country.index.name = 'Country'\n",
    "\n",
    "THE_ratio_country['ratio', 'faculty/students'] = THE_ratio_country['faculty', 'total']/THE_ratio_country['students', 'total']\n",
    "THE_ratio_country['ratio', 'international/total'] = THE_ratio_country['students', 'international']/THE_ratio_country['students', 'total']"
   ]
  },
  {
   "cell_type": "markdown",
   "metadata": {},
   "source": [
    "### Best faculty/student ratio"
   ]
  },
  {
   "cell_type": "code",
   "execution_count": null,
   "metadata": {},
   "outputs": [],
   "source": [
    "THE_ratio_country.sort_values(('ratio', 'faculty/students'), ascending=False).head()"
   ]
  },
  {
   "cell_type": "markdown",
   "metadata": {},
   "source": [
    "### Best international ratio"
   ]
  },
  {
   "cell_type": "code",
   "execution_count": null,
   "metadata": {
    "scrolled": true
   },
   "outputs": [],
   "source": [
    "THE_ratio_country.sort_values(('ratio', 'international/total'), ascending=False)"
   ]
  },
  {
   "cell_type": "markdown",
   "metadata": {},
   "source": [
    "# Question 3"
   ]
  },
  {
   "cell_type": "code",
   "execution_count": null,
   "metadata": {
    "scrolled": true
   },
   "outputs": [],
   "source": []
  }
 ],
 "metadata": {
  "kernelspec": {
   "display_name": "Python [conda env:ada]",
   "language": "python",
   "name": "conda-env-ada-py"
  },
  "language_info": {
   "codemirror_mode": {
    "name": "ipython",
    "version": 3
   },
   "file_extension": ".py",
   "mimetype": "text/x-python",
   "name": "python",
   "nbconvert_exporter": "python",
   "pygments_lexer": "ipython3",
   "version": "3.5.4"
  }
 },
 "nbformat": 4,
 "nbformat_minor": 2
}
